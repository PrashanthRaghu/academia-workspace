{
 "cells": [
  {
   "attachments": {},
   "cell_type": "markdown",
   "id": "74b2fce5-2a9c-4d5a-bb65-346e4391a083",
   "metadata": {},
   "source": [
    "# Introduction to Flask (Contd.)\n",
    "Exercises - Day 2\n",
    "\n",
    "License:\n",
    "\n",
    "Prepared by Prashanth Raghu, p.is.prashanth [at] gmail [dot] com\n",
    "Helped by: Phaneendra G      phanindra.g [at] gmail [dot] com\n",
    "\n",
    "Under Creative Commons [for students], Free for sharing amongst the student community. \n",
    "If using for non-academic purposes, do write on the mentioned email.\n",
    "\n",
    "1. Add loggers to the Library Management APIs and handle the error cases.\n",
    "\n",
    "2. Add Timing to the APIs for basic math and check if multiplication and division are time intensive.\n",
    "   (Hint: Add more than 10,000 numbers. Create them as num = list(range(0, 10000))\n",
    "   \n",
    "4. Add Tracing and Timing to the Library Management APIs and check if the Request Id header is being received as a part of the response headers.\n",
    " "
   ]
  },
  {
   "cell_type": "code",
   "execution_count": null,
   "id": "76295c71-0f24-4549-ad0a-2ef8d3764af0",
   "metadata": {},
   "outputs": [],
   "source": []
  }
 ],
 "metadata": {
  "kernelspec": {
   "display_name": "Python 3 (ipykernel)",
   "language": "python",
   "name": "python3"
  },
  "language_info": {
   "codemirror_mode": {
    "name": "ipython",
    "version": 3
   },
   "file_extension": ".py",
   "mimetype": "text/x-python",
   "name": "python",
   "nbconvert_exporter": "python",
   "pygments_lexer": "ipython3",
   "version": "3.11.6"
  }
 },
 "nbformat": 4,
 "nbformat_minor": 5
}
